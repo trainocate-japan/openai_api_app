{
 "cells": [
  {
   "cell_type": "markdown",
   "metadata": {
    "id": "vAwC7sAO8Jns"
   },
   "source": [
    "# 画像生成"
   ]
  },
  {
   "cell_type": "code",
   "execution_count": null,
   "metadata": {
    "id": "8Jz-kQwL7deh"
   },
   "outputs": [],
   "source": [
    "# !pip install openai\n",
    "!pip install streamlit"
   ]
  },
  {
   "cell_type": "code",
   "execution_count": null,
   "metadata": {
    "id": "2yCSzeKuF3VV"
   },
   "outputs": [],
   "source": [
    "from openai import OpenAI\n",
    "client = OpenAI(api_key=\"your api key\")"
   ]
  },
  {
   "cell_type": "code",
   "execution_count": null,
   "metadata": {
    "id": "psb3HUUt8atk"
   },
   "outputs": [],
   "source": [
    "response = client.images.generate(\n",
    "  model=\"dall-e-2\",\n",
    "  prompt=\"a white siamese cat\",\n",
    "  size=\"512x512\",\n",
    "  n=1\n",
    ")\n",
    "\n",
    "image_url = response.data[0].url\n",
    "print(image_url)"
   ]
  },
  {
   "cell_type": "code",
   "execution_count": null,
   "metadata": {
    "id": "HxHsoVbJ9ToH"
   },
   "outputs": [],
   "source": [
    "from PIL import Image\n",
    "import requests\n",
    "import io\n",
    "\n",
    "image = Image.open(io.BytesIO(requests.get(image_url).content))\n",
    "\n",
    "image.save(\"generated_image.png\")\n",
    "\n",
    "image"
   ]
  },
  {
   "cell_type": "code",
   "execution_count": null,
   "metadata": {
    "id": "dUXF39SHIlT4"
   },
   "outputs": [],
   "source": [
    "# app.pyの中身を実装\n",
    "%%writefile app.py\n",
    "from openai import OpenAI\n",
    "import streamlit as st\n",
    "from PIL import Image\n",
    "import requests\n",
    "import io\n",
    "\n",
    "client = OpenAI(api_key=\"your api key\")\n",
    "\n",
    "st.title(\"画像を生成するボット\")\n",
    "user_input = st.text_input(\"生成したい画像のキーワードを入力してください:\")\n",
    "\n",
    "if st.button(\"送信\"):\n",
    "    response = client.images.generate(\n",
    "        model=\"dall-e-2\",\n",
    "        prompt=user_input,\n",
    "        size=\"512x512\",\n",
    "        n=1\n",
    "    )\n",
    "    st.text_area(\"ボットの応答\", \"画像を生成しました\")\n",
    "    image = Image.open(io.BytesIO(requests.get(response.data[0].url).content))\n",
    "    st.image(image, caption='Created by AI',use_column_width=True)"
   ]
  },
  {
   "cell_type": "code",
   "execution_count": null,
   "metadata": {
    "id": "pKb_b-7NOBvm"
   },
   "outputs": [],
   "source": [
    "# streamlitのrunコマンドでapp.pyを立ち上げ、localtunnelを用いてアプリ公開\n",
    "!streamlit run app.py & sleep 3 && npx localtunnel --port 8501"
   ]
  },
  {
   "cell_type": "markdown",
   "metadata": {
    "id": "SmSN0rHZeuUO"
   },
   "source": [
    "# 画像編集"
   ]
  },
  {
   "cell_type": "code",
   "execution_count": null,
   "metadata": {
    "id": "Qrcp_az4fAN4"
   },
   "outputs": [],
   "source": [
    "from PIL import Image\n",
    "import requests\n",
    "import io\n",
    "from openai import OpenAI\n",
    "\n",
    "client = OpenAI(api_key=\"your api key\")"
   ]
  },
  {
   "cell_type": "code",
   "execution_count": null,
   "metadata": {
    "id": "t_gKROv5gUtN"
   },
   "outputs": [],
   "source": [
    "image_name = \"/content/drive/MyDrive/OpenAIAPIApp_Lecture/data/images/8044547720_628e930721_z.png\"\n",
    "\n",
    "image = Image.open(image_name)\n",
    "image"
   ]
  },
  {
   "cell_type": "code",
   "execution_count": null,
   "metadata": {
    "id": "f1zHbYVlg_0l"
   },
   "outputs": [],
   "source": [
    "mask_name = \"/content/drive/MyDrive/OpenAIAPIApp_Lecture/data/images/8044547720_628e930721_z_mask_1.png\"\n",
    "\n",
    "image = Image.open(mask_name)\n",
    "image"
   ]
  },
  {
   "cell_type": "code",
   "execution_count": null,
   "metadata": {
    "id": "CtQ6Trt3gImQ"
   },
   "outputs": [],
   "source": [
    "# メソッドを呼び出し、応答を得る\n",
    "response = client.images.edit(\n",
    "    model=\"dall-e-2\",\n",
    "    image=open(image_name, \"rb\"),\n",
    "    mask=open(mask_name, \"rb\"),\n",
    "    prompt=\"羊を消して\",\n",
    "    n=1,\n",
    "    size=\"512x512\"\n",
    ")\n",
    "\n",
    "image_url = response.data[0].url\n",
    "\n",
    "image = Image.open(io.BytesIO(requests.get(image_url).content))\n",
    "image"
   ]
  },
  {
   "cell_type": "code",
   "execution_count": null,
   "metadata": {
    "id": "9LwFFnskfOFK"
   },
   "outputs": [],
   "source": [
    "mask_name = \"/content/drive/MyDrive/OpenAIAPIApp_Lecture/data/images/8044547720_628e930721_z_mask_2.png\"\n",
    "\n",
    "image = Image.open(mask_name)\n",
    "image"
   ]
  },
  {
   "cell_type": "code",
   "execution_count": null,
   "metadata": {
    "id": "41H58dSah5lK"
   },
   "outputs": [],
   "source": [
    "# メソッドを呼び出し、応答を得る\n",
    "response = client.images.edit(\n",
    "    model=\"dall-e-2\",\n",
    "    image=open(image_name, \"rb\"),\n",
    "    mask=open(mask_name, \"rb\"),\n",
    "    prompt=\"犬を増やして\",\n",
    "    n=1,\n",
    "    size=\"512x512\"\n",
    ")\n",
    "\n",
    "image_url = response.data[0].url\n",
    "\n",
    "image = Image.open(io.BytesIO(requests.get(image_url).content))\n",
    "image"
   ]
  },
  {
   "cell_type": "code",
   "execution_count": null,
   "metadata": {
    "id": "StMHFC_Wh8YC"
   },
   "outputs": [],
   "source": []
  }
 ],
 "metadata": {
  "colab": {
   "provenance": []
  },
  "kernelspec": {
   "display_name": "Python 3",
   "name": "python3"
  },
  "language_info": {
   "name": "python"
  }
 },
 "nbformat": 4,
 "nbformat_minor": 0
}
