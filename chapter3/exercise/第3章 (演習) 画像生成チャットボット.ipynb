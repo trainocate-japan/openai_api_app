{
 "cells": [
  {
   "cell_type": "markdown",
   "metadata": {
    "id": "Fb18AymJLJNl"
   },
   "source": [
    "# 演習 3-1-7"
   ]
  },
  {
   "cell_type": "code",
   "execution_count": null,
   "metadata": {
    "id": "8Jz-kQwL7deh"
   },
   "outputs": [],
   "source": [
    "# !pip install openai\n",
    "!pip install streamlit"
   ]
  },
  {
   "cell_type": "code",
   "execution_count": null,
   "metadata": {
    "id": "D3LOHxMyK59p"
   },
   "outputs": [],
   "source": [
    "# app.pyの中身を実装\n",
    "%%writefile app.py\n",
    "from openai import OpenAI\n",
    "import streamlit as st\n",
    "from PIL import Image\n",
    "import requests\n",
    "import io\n",
    "\n",
    "## APIキーを設定したclientオブジェクト生成\n",
    "client = \n",
    "\n",
    "st.title(\"画像を生成するボット\")\n",
    "user_input = st.text_input(\"生成したい画像のキーワードを入力してください:\")\n",
    "\n",
    "if st.button(\"送信\"):\n",
    "    ## completionsを用いて、user_inputを英語に翻訳する\n",
    "    english_keywords = client.chat.completions.create(\n",
    "        model= ,\n",
    "        messages=\n",
    "    )\n",
    "\n",
    "    ## client.images.generateメソッドを用いて画像を生成する\n",
    "    response = client.images.generate(\n",
    "        model= ,\n",
    "        prompt= ,\n",
    "        size=\"512x512\",\n",
    "        n=1\n",
    "    )\n",
    "\n",
    "    st.text_area(\"ボットの応答\", \"画像を生成しました\")\n",
    "    image = Image.open(io.BytesIO(requests.get(response.data[0].url).content))\n",
    "    st.image(image, caption='Created by AI',use_column_width=True)"
   ]
  },
  {
   "cell_type": "code",
   "execution_count": null,
   "metadata": {
    "id": "rH4soOn9NZKH"
   },
   "outputs": [],
   "source": [
    "# streamlitのrunコマンドでapp.pyを立ち上げ、localtunnelを用いてアプリ公開\n",
    "!streamlit run app.py & sleep 3 && npx localtunnel --port 8501"
   ]
  },
  {
   "cell_type": "code",
   "execution_count": null,
   "metadata": {
    "id": "kjG7XWkIN-bO"
   },
   "outputs": [],
   "source": [
    "# app.pyの中身を実装\n",
    "%%writefile app.py\n",
    "from openai import OpenAI\n",
    "import streamlit as st\n",
    "from PIL import Image\n",
    "import requests\n",
    "import io\n",
    "\n",
    "client = OpenAI(api_key=\"your api key\")\n",
    "\n",
    "st.title(\"画像を生成するボット\")\n",
    "user_input = st.text_input(\"生成したい画像のキーワードを入力してください:\")\n",
    "\n",
    "if st.button(\"送信\"):\n",
    "    english_keywords = client.chat.completions.create(\n",
    "        model= \"gpt-3.5-turbo\",\n",
    "        messages=[{\"role\": \"system\", \"content\": \"あなたは翻訳家です。日本語を英語に翻訳してください。\"},\n",
    "                  {\"role\": \"user\", \"content\": user_input}\n",
    "                  ]\n",
    "    )\n",
    "\n",
    "    response = client.images.generate(\n",
    "        model=\"dall-e-2\",\n",
    "        prompt=english_keywords.choices[0].message.content,\n",
    "        size=\"512x512\",\n",
    "        n=1\n",
    "    )\n",
    "\n",
    "    st.text_area(\"ボットの応答\", \"画像を生成しました\")\n",
    "    image = Image.open(io.BytesIO(requests.get(response.data[0].url).content))\n",
    "    st.image(image, caption='Created by AI',use_column_width=True)\n",
    "\n",
    "    ## ファイルパスを指定して画像を保存する\n",
    "    image.save(\" \")\n",
    "    st.text_area(\"ボットの応答\", \"画像を保存しました\")"
   ]
  },
  {
   "cell_type": "code",
   "execution_count": null,
   "metadata": {
    "id": "oAQWrfvJOLNs"
   },
   "outputs": [],
   "source": [
    "# streamlitのrunコマンドでapp.pyを立ち上げ、localtunnelを用いてアプリ公開\n",
    "!streamlit run app.py & sleep 3 && npx localtunnel --port 8501"
   ]
  },
  {
   "cell_type": "code",
   "execution_count": null,
   "metadata": {
    "id": "StMHFC_Wh8YC"
   },
   "outputs": [],
   "source": []
  }
 ],
 "metadata": {
  "colab": {
   "provenance": []
  },
  "kernelspec": {
   "display_name": "Python 3",
   "name": "python3"
  },
  "language_info": {
   "name": "python"
  }
 },
 "nbformat": 4,
 "nbformat_minor": 0
}
