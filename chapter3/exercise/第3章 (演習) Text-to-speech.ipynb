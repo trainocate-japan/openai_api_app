{
 "cells": [
  {
   "cell_type": "code",
   "execution_count": null,
   "metadata": {
    "id": "9pdf_1QObV1w"
   },
   "outputs": [],
   "source": [
    "# !pip install openai\n",
    "!pip install streamlit"
   ]
  },
  {
   "cell_type": "markdown",
   "metadata": {
    "id": "TUxn6YpzkQrR"
   },
   "source": [
    "# 3-3-6.演習"
   ]
  },
  {
   "cell_type": "code",
   "execution_count": null,
   "metadata": {
    "id": "D3o9QIgBwREP"
   },
   "outputs": [],
   "source": [
    "# app.pyの中身を実装\n",
    "%%writefile app.py\n",
    "import streamlit as st\n",
    "from io import StringIO\n",
    "from openai import OpenAI\n",
    "\n",
    "client = OpenAI(api_key=\"your api key\")\n",
    "\n",
    "st.title(\"ファイルアップローダー\")\n",
    "uploaded_file = st.file_uploader(\"アップロードするファイルを選択\")\n",
    "\n",
    "if uploaded_file is not None:\n",
    "    stringio = StringIO(uploaded_file.getvalue().decode(\"utf-8\"))\n",
    "    string_data = stringio.read()\n",
    "    # st.text_area(\"要約する文章\", string_data)\n",
    "\n",
    "    ## completionsを用いて、読み込んだ文章を要約する\n",
    "    response = client.chat.completions.create(\n",
    "        model= ,\n",
    "        messages=\n",
    "    )\n",
    "\n",
    "    ## 要約文を表示する\n",
    "    st.text_area(\"要約文\", )"
   ]
  },
  {
   "cell_type": "code",
   "execution_count": null,
   "metadata": {
    "id": "15sx64Lclw3e"
   },
   "outputs": [],
   "source": [
    "# streamlitのrunコマンドでapp.pyを立ち上げ、localtunnelを用いてアプリ公開\n",
    "!streamlit run app.py & sleep 3 && npx localtunnel --port 8501"
   ]
  },
  {
   "cell_type": "code",
   "execution_count": null,
   "metadata": {
    "id": "9d9xC85RltJ4"
   },
   "outputs": [],
   "source": [
    "# app.pyの中身を実装\n",
    "%%writefile app.py\n",
    "import streamlit as st\n",
    "from io import StringIO\n",
    "from openai import OpenAI\n",
    "\n",
    "client = OpenAI(api_key=\"your api key\")\n",
    "\n",
    "st.title(\"ファイルアップローダー\")\n",
    "uploaded_file = st.file_uploader(\"アップロードするファイルを選択\")\n",
    "\n",
    "if uploaded_file is not None:\n",
    "    stringio = StringIO(uploaded_file.getvalue().decode(\"utf-8\"))\n",
    "    string_data = stringio.read()\n",
    "    # st.write(f'要約する文章: {string_data}')\n",
    "\n",
    "    # 読み込んだ文章を要約する\n",
    "    response = client.chat.completions.create(\n",
    "        model=\"gpt-4o-mini\",\n",
    "        messages=[\n",
    "          {\"role\": \"system\", \"content\": \"You are a helpful assistant.\"},\n",
    "          {\"role\": \"user\", \"content\": \"次の文章を100文字以内で要約してください。\\n\"\n",
    "          + \"###\\n\"\n",
    "          + string_data}\n",
    "        ]\n",
    "    )\n",
    "\n",
    "    ## audio.speech.createメソッドを用いて、要約した文章を音声化する\n",
    "    response = client.audio.speech.create(\n",
    "        model= ,\n",
    "        voice= ,\n",
    "        input=\n",
    "    )\n",
    "\n",
    "    st.audio(response.content)"
   ]
  },
  {
   "cell_type": "code",
   "execution_count": null,
   "metadata": {
    "id": "hQKIkC1LMSIL"
   },
   "outputs": [],
   "source": [
    "# streamlitのrunコマンドでapp.pyを立ち上げ、localtunnelを用いてアプリ公開\n",
    "!streamlit run app.py & sleep 3 && npx localtunnel --port 8501"
   ]
  }
 ],
 "metadata": {
  "colab": {
   "provenance": []
  },
  "kernelspec": {
   "display_name": "Python 3",
   "name": "python3"
  },
  "language_info": {
   "name": "python"
  }
 },
 "nbformat": 4,
 "nbformat_minor": 0
}
