{
 "cells": [
  {
   "cell_type": "markdown",
   "metadata": {
    "id": "1RbYnVr-mXsp"
   },
   "source": [
    "# 1-1_Google Colaboratoryを使ってみよう\n",
    "\n",
    "**Colaboratory（略称: Colab）**は、ブラウザから Python を記述、実行できるサービスです。Googleアカウントだけですぐに使用することができ、機械学習を行う環境としてとても人気があります。\n",
    "\n",
    "- 利用料金は無料（より多くのリソースが使える有料版もある）\n",
    "- GoogleがJupyter Notebookをカスタマイズしたものを仮想マシンで提供\n",
    "- 環境構築が不要。主要なライブラリがインストール済み\n",
    "- GPU への無料アクセス\n",
    "\n",
    "<br>\n",
    "\n",
    "無制限に使用できるわけではなく以下の**制限**があります。\n",
    "- 90分間操作をしないとランタイム(実行していたプログラム)がリセットされる\n",
    "- ランタイムは12時間経過するとリセットされる\n",
    "- GPUを使い続けると制限がかかり翌日まで使用できなくなる（上限は未公開）\n",
    "\n",
    "※ 上記の制限よりもはやく、接続がリセットされることもあります。ランタイムがリセットされた場合は最初から再実行すれば大丈夫です。\n",
    "\n",
    "\n",
    "長時間に及ぶ学習をさせなければ問題になることはなく、本講義ではあまり問題にはなりませんが、途中で長時間離席をされたり、GPUマシンを接続しっぱなしにすると影響することがありますのでご注意ください。"
   ]
  },
  {
   "cell_type": "markdown",
   "metadata": {
    "id": "FQJxnrltr31x"
   },
   "source": [
    "## <strong>はじめに</strong>\n",
    "\n",
    "Google Colaboratory ではpythonのコードを記載できる<strong>コードセル</strong>と、説明などを記載できる<strong>テキストセル</strong>を使います。\n",
    "<br><br>\n",
    "この説明を記載しているセルは<strong>テキストセルです</strong>markdown形式で記載をすることができ、プログラムの実行には影響を与えません。\n",
    "<br><br>\n",
    "テキストセルを追加するには、画面上部の「+テキスト」というボタンを押します。\n",
    "\n",
    "コードセルを追加するには、同じく画面上部の「+コード」というボタンを押します。\n",
    "<br><br>\n",
    "一つ下のセルは<strong>コードセル</strong>です。値を計算して変数に保存し、結果を出力する短い Python スクリプトが記述されています。\n",
    "\n",
    "結果を表示するにはpythonのprintメソッドを使用するか、セルの最後に記載された変数が自動的に出力されます。"
   ]
  },
  {
   "cell_type": "code",
   "execution_count": null,
   "metadata": {
    "id": "5TTf8bmPr4wv"
   },
   "outputs": [],
   "source": [
    "seconds = 24 * 60 * 60\n",
    "seconds"
   ]
  },
  {
   "cell_type": "markdown",
   "metadata": {
    "id": "7q6fpwS1r-gi"
   },
   "source": [
    "上記のセルのコードを実行するには、**コードの左側にある実行ボタンをクリック**するか、キーボード ショートカット**「command+return」**または**「Ctrl+Enter」**を使用します。コードはセルをクリックして編集することができます。\n",
    "\n",
    "前のセルで使用した変数は、その後の他のセルでも使用できます。\n",
    "\n",
    "また、**「Shift + Enter」**でセルを実行しながらその下へ移動もしくはコードセルの追加をすることができます。このショートカットは最もよく使います。"
   ]
  },
  {
   "cell_type": "code",
   "execution_count": null,
   "metadata": {
    "id": "AmO7YFxEtKkv"
   },
   "outputs": [],
   "source": [
    "name = '私の名前は太郎です'\n",
    "name"
   ]
  },
  {
   "cell_type": "markdown",
   "metadata": {
    "id": "Wf-gHoV0tVAW"
   },
   "source": [
    "Colab ノートブックを作成すると、**Google ドライブ**に保存されます。新しい Colab ノートブックを作成するには、Googleドライブ上で新しいファイルとして作成するか、左上にあるファイルメニューから新規ノートブックを作成します。\n",
    "\n",
    "\n",
    "**保存は自動**で行われますが、すぐに保存をしたい場合には、左上にある**ファイルメニューから保存**を選択します。**「Ctrl + S」** のショートカットを使うのも便利です。\n",
    "\n"
   ]
  },
  {
   "cell_type": "code",
   "execution_count": null,
   "metadata": {
    "id": "o8pIWlPE1DPy"
   },
   "outputs": [],
   "source": []
  }
 ],
 "metadata": {
  "colab": {
   "authorship_tag": "ABX9TyPqCAugXEhUtvh4kFbI0Bnj",
   "collapsed_sections": [],
   "name": "1-1_Google Colaboratoryを使ってみよう.ipynb",
   "provenance": []
  },
  "kernelspec": {
   "display_name": "Python 3 (ipykernel)",
   "language": "python",
   "name": "python3"
  },
  "language_info": {
   "codemirror_mode": {
    "name": "ipython",
    "version": 3
   },
   "file_extension": ".py",
   "mimetype": "text/x-python",
   "name": "python",
   "nbconvert_exporter": "python",
   "pygments_lexer": "ipython3",
   "version": "3.9.1"
  }
 },
 "nbformat": 4,
 "nbformat_minor": 1
}
