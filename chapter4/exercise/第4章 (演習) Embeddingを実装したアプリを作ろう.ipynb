{
 "cells": [
  {
   "cell_type": "code",
   "execution_count": null,
   "metadata": {
    "id": "qDVfx7tTznif"
   },
   "outputs": [],
   "source": [
    "# !pip install openai\n",
    "!pip install streamlit"
   ]
  },
  {
   "cell_type": "code",
   "execution_count": null,
   "metadata": {
    "id": "IarSRiyEzvbp"
   },
   "outputs": [],
   "source": [
    "from openai import OpenAI\n",
    "client = OpenAI(api_key=\"your api key\")"
   ]
  },
  {
   "cell_type": "code",
   "execution_count": null,
   "metadata": {
    "id": "uhlYZ45Vz0EC"
   },
   "outputs": [],
   "source": [
    "import pandas as pd\n",
    "import numpy as np\n",
    "from ast import literal_eval\n",
    "\n",
    "datafile_path = \"/content/drive/MyDrive/OpenAIAPIApp_Lecture/data/embeddings_data/157recipes.csv\"\n",
    "\n",
    "df = pd.read_csv(datafile_path, encoding='shift-jis')\n",
    "df"
   ]
  },
  {
   "cell_type": "code",
   "execution_count": null,
   "metadata": {
    "id": "sciVNjwl0u36"
   },
   "outputs": [],
   "source": [
    "texts = []\n",
    "for i in range(157):\n",
    "  text = '料理名: ' + df.iloc[i, 0] + ', 材料: ' + df.iloc[i, 1] + ', 調理手順: ' + df.iloc[i, 2]\n",
    "  texts.append(text)\n",
    "\n",
    "text_col = pd.Series(texts, name='結合後')\n",
    "con_df = pd.concat([df, text_col], axis=1)\n",
    "con_df"
   ]
  },
  {
   "cell_type": "code",
   "execution_count": null,
   "metadata": {
    "id": "AXqhxlC43xlr"
   },
   "outputs": [],
   "source": [
    "embeddings = []\n",
    "\n",
    "for i in range(157):\n",
    "  response = client.embeddings.create(\n",
    "    model=\"text-embedding-3-small\",\n",
    "    input=con_df['結合後'][i]\n",
    "  )\n",
    "  embeddings.append(response.data[0].embedding)\n",
    "\n",
    "embedding_col = pd.Series(embeddings, name='embedding')\n",
    "embedding_df = pd.concat([con_df, embedding_col], axis=1)\n",
    "embedding_df.to_csv('/content/drive/MyDrive/OpenAIAPIApp_Lecture/data/embeddings_data/157recipes_embedding.csv', encoding='utf8', index_label=False)"
   ]
  },
  {
   "cell_type": "code",
   "execution_count": null,
   "metadata": {
    "id": "l7a7yEjJPpR2"
   },
   "outputs": [],
   "source": [
    "%%writefile app.py\n",
    "from openai import OpenAI\n",
    "import streamlit as st\n",
    "import numpy as np\n",
    "import pandas as pd\n",
    "from ast import literal_eval\n",
    "from drive.MyDrive.OpenAIAPIApp_Lecture.utils.embeddings_utils import get_embedding, cosine_similarity\n",
    "\n",
    "client = OpenAI(api_key=\"your api key\")\n",
    "datafile_path = '/content/drive/MyDrive/OpenAIAPIApp_Lecture/data/embeddings_data/157recipes_embedding.csv'\n",
    "embedding_df = pd.read_csv(datafile_path)\n",
    "embedding_df['embedding'] = embedding_df.embedding.apply(literal_eval).apply(np.array)\n",
    "\n",
    "def search_recipes(embedding_df, recipe_description, n=3):\n",
    "    recipe_embedding = get_embedding(\n",
    "        recipe_description,\n",
    "        model=\"text-embedding-3-small\"\n",
    "    )\n",
    "    embedding_df[\"similarity\"] = embedding_df.embedding.apply(lambda x: cosine_similarity(x, recipe_embedding))\n",
    "\n",
    "    results = (\n",
    "        embedding_df.sort_values(\"similarity\", ascending=False)\n",
    "        .head(n)\n",
    "    )\n",
    "    return results\n",
    "\n",
    "st.title(\"レシピ検索アプリケーション\")\n",
    "user_input = st.text_input(\"検索したいレシピのキーワードを入力してください:\")\n",
    "\n",
    "if st.button(\"送信\"):\n",
    "    recipe = search_recipes(embedding_df, user_input, n=3)\n",
    "    for i in range(3):\n",
    "        st.text_area(f\"レシピ{i+1}\", f\"料理名: {recipe.iloc[i, 0]}\\n材料: {recipe.iloc[i, 1]}\\n調理手順: {recipe.iloc[i, 2]}\")"
   ]
  },
  {
   "cell_type": "code",
   "execution_count": null,
   "metadata": {
    "id": "JL-y6-JhQyLx"
   },
   "outputs": [],
   "source": [
    "# streamlitのrunコマンドでapp.pyを立ち上げ、localtunnelを用いてアプリ公開\n",
    "!streamlit run app.py & sleep 3 && npx localtunnel --port 8501"
   ]
  },
  {
   "cell_type": "code",
   "execution_count": null,
   "metadata": {
    "id": "Q6Vnz06HBvGY"
   },
   "outputs": [],
   "source": [
    "from sklearn.cluster import KMeans\n",
    "\n",
    "n_clusters = 4\n",
    "matrix = np.vstack(embedding_df.embedding.values)\n",
    "\n",
    "kmeans = KMeans(n_clusters=n_clusters, init=\"k-means++\", random_state=42)\n",
    "kmeans.fit(matrix)\n",
    "labels = kmeans.labels_\n",
    "embedding_df[\"Cluster\"] = labels"
   ]
  },
  {
   "cell_type": "code",
   "execution_count": null,
   "metadata": {
    "id": "Fg5URiqCGU5x"
   },
   "outputs": [],
   "source": [
    "from sklearn.manifold import TSNE\n",
    "import matplotlib\n",
    "import matplotlib.pyplot as plt\n",
    "\n",
    "tsne = TSNE(n_components=2, perplexity=15, random_state=42, init=\"random\", learning_rate=200)\n",
    "vis_dims2 = tsne.fit_transform(matrix)\n",
    "\n",
    "x = [x for x, y in vis_dims2]\n",
    "y = [y for x, y in vis_dims2]\n",
    "\n",
    "for category, color in enumerate([\"purple\", \"green\", \"red\", \"blue\"]):\n",
    "    xs = np.array(x)[embedding_df.Cluster == category]\n",
    "    ys = np.array(y)[embedding_df.Cluster == category]\n",
    "    plt.scatter(xs, ys, color=color, alpha=0.3)\n",
    "\n",
    "    avg_x = xs.mean()\n",
    "    avg_y = ys.mean()\n",
    "\n",
    "    plt.scatter(avg_x, avg_y, marker=\"x\", color=color, s=100)\n",
    "plt.title(\"Clusters identified visualized in language 2d using t-SNE\")"
   ]
  },
  {
   "cell_type": "code",
   "execution_count": null,
   "metadata": {
    "id": "UOJD3cq-Gokw"
   },
   "outputs": [],
   "source": [
    "# Reading a review which belong to each group.\n",
    "rec_per_cluster = 5\n",
    "\n",
    "for i in range(n_clusters):\n",
    "    print(f\"Cluster {i} Theme:\", end=\" \")\n",
    "\n",
    "    recipes = \"\\n\".join(\n",
    "        embedding_df[embedding_df.Cluster == i][\"結合後\"].values\n",
    "    )\n",
    "\n",
    "    messages = [\n",
    "        {\"role\": \"user\", \"content\": f'以下の料理に共通する要素は何？\\n\\n料理の概要:\\n\"\"\"\\n{recipes}\\n\"\"\"\\n\\nテーマ:'}\n",
    "    ]\n",
    "\n",
    "    response = client.chat.completions.create(\n",
    "        model=\"gpt-4\",\n",
    "        messages=messages,\n",
    "        temperature=0,\n",
    "        max_tokens=64,\n",
    "        top_p=1,\n",
    "        frequency_penalty=0,\n",
    "        presence_penalty=0)\n",
    "    print(response.choices[0].message.content.replace(\"\\n\", \"\"))\n",
    "\n",
    "    sample_cluster_rows = df[df.Cluster == i].sample(rec_per_cluster, random_state=0)\n",
    "    for j in range(rec_per_cluster):\n",
    "        print(sample_cluster_rows['料理名'].values[j], end=\": \")\n",
    "        print(sample_cluster_rows['材料'].values[j], end=\": \")\n",
    "        print(sample_cluster_rows['調理手順'].str[:70].values[j])\n",
    "\n",
    "    print(\"-\" * 100)"
   ]
  },
  {
   "cell_type": "code",
   "execution_count": null,
   "metadata": {
    "id": "Ko4bdQgLI3-p"
   },
   "outputs": [],
   "source": []
  }
 ],
 "metadata": {
  "colab": {
   "provenance": []
  },
  "kernelspec": {
   "display_name": "Python 3",
   "name": "python3"
  },
  "language_info": {
   "name": "python"
  }
 },
 "nbformat": 4,
 "nbformat_minor": 0
}
