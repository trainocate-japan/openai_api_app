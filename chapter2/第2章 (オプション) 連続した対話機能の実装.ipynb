{
 "cells": [
  {
   "cell_type": "markdown",
   "metadata": {
    "id": "ZPHlpJ9V2BiZ"
   },
   "source": [
    "#アプリケーション内で連続した対話ができる機能を追加する"
   ]
  },
  {
   "cell_type": "code",
   "execution_count": null,
   "metadata": {
    "id": "nOtLrNncRRxJ"
   },
   "outputs": [],
   "source": [
    "# !pip install openai\n",
    "!pip install streamlit"
   ]
  },
  {
   "cell_type": "code",
   "execution_count": null,
   "metadata": {
    "id": "4o2YMxJS1vvo"
   },
   "outputs": [],
   "source": [
    "%%writefile app.py\n",
    "from openai import OpenAI\n",
    "import streamlit as st\n",
    "\n",
    "client = OpenAI(api_key=\"your api key\")\n",
    "\n",
    "st.title(\"Hello Streamlit\")\n",
    "user_input = st.text_input(\"あなたのメッセージを入力してください:\")\n",
    "\n",
    "if st.button(\"送信\"):\n",
    "    if \"history\" not in st.session_state:\n",
    "        st.session_state[\"history\"] = [{\"role\": \"system\", \"content\": \"You are a helpful assistant.\"}]\n",
    "\n",
    "    st.session_state[\"history\"].append({\"role\": \"user\", \"content\": user_input})\n",
    "\n",
    "    # OpenAI APIを使用して応答を生成\n",
    "    response = client.chat.completions.create(\n",
    "        model= \"gpt-4o-mini\",\n",
    "        messages=st.session_state[\"history\"],\n",
    "        )\n",
    "\n",
    "    # 応答を対話履歴に追加\n",
    "    st.session_state[\"history\"].append({\"role\": \"assistant\", \"content\": response.choices[0].message.content})\n",
    "\n",
    "    # 対話履歴を表示\n",
    "    for message in st.session_state[\"history\"][:-1]:\n",
    "        if message[\"role\"] == \"user\":\n",
    "            st.text_area(\"User\", message[\"content\"])\n",
    "        elif message[\"role\"] == \"assistant\":\n",
    "            st.text_area(\"Bot\", message[\"content\"])\n",
    "    st.text_area(\"Bot\", response.choices[0].message.content)"
   ]
  },
  {
   "cell_type": "code",
   "execution_count": null,
   "metadata": {
    "colab": {
     "background_save": true
    },
    "id": "Ovk0ziAQ3dEa"
   },
   "outputs": [],
   "source": [
    "# streamlitのrunコマンドでapp.pyを立ち上げ、localtunnelを用いてアプリ公開\n",
    "!streamlit run app.py & sleep 3 && npx localtunnel --port 8501"
   ]
  },
  {
   "cell_type": "code",
   "execution_count": null,
   "metadata": {
    "id": "Tuyu_wLg4cn-"
   },
   "outputs": [],
   "source": []
  }
 ],
 "metadata": {
  "colab": {
   "provenance": []
  },
  "kernelspec": {
   "display_name": "Python 3",
   "name": "python3"
  },
  "language_info": {
   "name": "python"
  }
 },
 "nbformat": 4,
 "nbformat_minor": 0
}
