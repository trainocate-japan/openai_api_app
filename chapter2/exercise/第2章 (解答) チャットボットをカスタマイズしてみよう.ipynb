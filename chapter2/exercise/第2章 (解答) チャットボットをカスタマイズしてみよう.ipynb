{
 "cells": [
  {
   "cell_type": "markdown",
   "metadata": {
    "id": "fitoPvOwfbIs"
   },
   "source": [
    "# オリジナルチャットボット作成"
   ]
  },
  {
   "cell_type": "code",
   "execution_count": null,
   "metadata": {
    "id": "IOR_uv7uTiuX"
   },
   "outputs": [],
   "source": [
    "# パッケージインストール\n",
    "# !pip install openai\n",
    "# !pip install tiktoken\n",
    "!pip install streamlit"
   ]
  },
  {
   "cell_type": "code",
   "execution_count": null,
   "metadata": {
    "id": "DjE1NWZ3Uu6Y"
   },
   "outputs": [],
   "source": [
    "# app.pyの中身を実装\n",
    "# ユーザーからの入力に対する反応を表示する\n",
    "%%writefile app.py\n",
    "from openai import OpenAI\n",
    "import streamlit as st\n",
    "\n",
    "client = OpenAI(api_key=\"your api key\")\n",
    "\n",
    "st.title(\"おススメの観光スポットを教えてくれるボットです\")\n",
    "user_input = st.text_input(\"観光したい都道府県を入力してください:\")\n",
    "\n",
    "response = client.chat.completions.create(\n",
    "    model= \"gpt-4o-mini\",\n",
    "    messages=[{\"role\": \"system\", \"content\": \"あなたはプロの旅行プランナーです。入力された都道府県の有名な観光スポットを3か所列挙し、その特徴を教えてください。\\\n",
    "               ・観光スポット \\\n",
    "               ・特徴\"},\n",
    "              {\"role\": \"user\", \"content\": user_input}\n",
    "              ],\n",
    "    )\n",
    "\n",
    "if st.button(\"送信\"):\n",
    "    st.text_area(\"ボットの応答\", response.choices[0].message.content)"
   ]
  },
  {
   "cell_type": "code",
   "execution_count": null,
   "metadata": {
    "colab": {
     "background_save": true
    },
    "id": "Oqa8hXL7UvvE"
   },
   "outputs": [],
   "source": [
    "# streamlitのrunコマンドでapp.pyを立ち上げ、localtunnelを用いてアプリ公開\n",
    "!streamlit run app.py & sleep 3 && npx localtunnel --port 8501"
   ]
  },
  {
   "cell_type": "markdown",
   "metadata": {
    "id": "fCa5KAQaffZe"
   },
   "source": [
    "# トークン制限"
   ]
  },
  {
   "cell_type": "code",
   "execution_count": null,
   "metadata": {
    "id": "uGgrPcYtft6-"
   },
   "outputs": [],
   "source": [
    "# app.pyの中身を実装\n",
    "# ユーザーからの入力に対する反応を表示する\n",
    "%%writefile app.py\n",
    "from openai import OpenAI\n",
    "import streamlit as st\n",
    "import tiktoken\n",
    "\n",
    "client = OpenAI(api_key=\"your api key\")\n",
    "model = \"gpt-4o-mini\"\n",
    "\n",
    "st.title(\"おススメの観光スポットを教えてくれるボットです\")\n",
    "user_input = st.text_input(\"観光したい都道府県を入力してください:\")\n",
    "\n",
    "encoding = tiktoken.encoding_for_model(model)\n",
    "num_tokens = len(encoding.encode(user_input))\n",
    "\n",
    "if st.button(\"送信\"):\n",
    "    if num_tokens > 100:\n",
    "        st.text_area(\"ボットの応答\", \"文字数を減らしてください。\")\n",
    "        # st.error(\"文字数を減らしてください。\")\n",
    "    else:\n",
    "        response = client.chat.completions.create(\n",
    "            model=model,\n",
    "            messages=[{\"role\": \"system\", \"content\": \"あなたはプロの旅行プランナーです。入力された都道府県の有名な観光スポットを3か所列挙し、その特徴を教えてください。\\\n",
    "                      ・観光スポット \\\n",
    "                      ・特徴\"},\n",
    "                      {\"role\": \"user\", \"content\": user_input}\n",
    "                      ],\n",
    "            )\n",
    "        st.text_area(\"ボットの応答\", response.choices[0].message.content)"
   ]
  },
  {
   "cell_type": "code",
   "execution_count": null,
   "metadata": {
    "id": "OJpIa6wOjWhm"
   },
   "outputs": [],
   "source": [
    "# streamlitのrunコマンドでapp.pyを立ち上げ、localtunnelを用いてアプリ公開\n",
    "!streamlit run app.py & sleep 3 && npx localtunnel --port 8501"
   ]
  },
  {
   "cell_type": "markdown",
   "metadata": {
    "id": "nqiP0nZ8prJd"
   },
   "source": [
    "# 対話履歴の保存"
   ]
  },
  {
   "cell_type": "code",
   "execution_count": null,
   "metadata": {
    "id": "f7fzsBnnjYRH"
   },
   "outputs": [],
   "source": [
    "# app.pyの中身を実装\n",
    "# ユーザーからの入力に対する反応を表示する\n",
    "%%writefile app.py\n",
    "from openai import OpenAI\n",
    "import streamlit as st\n",
    "import tiktoken\n",
    "import json\n",
    "\n",
    "client = OpenAI(api_key=\"your api key\")\n",
    "model = \"gpt-4o-mini\"\n",
    "\n",
    "st.title(\"おススメの観光スポットを教えてくれるボットです\")\n",
    "user_input = st.text_input(\"観光したい都道府県を入力してください:\")\n",
    "\n",
    "messages = [{\"role\": \"system\", \"content\": \"あなたはプロの旅行プランナーです。入力された都道府県の有名な観光スポットを3か所列挙し、その特徴を教えてください。\\\n",
    "             ・観光スポット \\\n",
    "             ・特徴\"},\n",
    "              {\"role\": \"user\", \"content\": user_input}\n",
    "              ]\n",
    "\n",
    "encoding = tiktoken.encoding_for_model(model)\n",
    "num_tokens = len(encoding.encode(user_input))\n",
    "\n",
    "if st.button(\"送信\"):\n",
    "    if num_tokens > 100:\n",
    "        st.text_area(\"ボットの応答\", \"文字数を減らしてください。\")\n",
    "        # st.error(\"文字数を減らしてください。\")\n",
    "    else:\n",
    "        response = client.chat.completions.create(\n",
    "            model=model,\n",
    "            messages=messages\n",
    "            )\n",
    "        st.text_area(\"ボットの応答\", response.choices[0].message.content)\n",
    "        messages.append({\"role\": \"assistant\", \"content\": response.choices[0].message.content})\n",
    "\n",
    "        with open(\"history.json\", mode=\"w\") as f:\n",
    "            json.dump(messages, f)"
   ]
  },
  {
   "cell_type": "code",
   "execution_count": null,
   "metadata": {
    "id": "ANZZZeA2q-Vi"
   },
   "outputs": [],
   "source": [
    "# streamlitのrunコマンドでapp.pyを立ち上げ、localtunnelを用いてアプリ公開\n",
    "!streamlit run app.py & sleep 3 && npx localtunnel --port 8501"
   ]
  },
  {
   "cell_type": "markdown",
   "metadata": {
    "id": "8CuuhyenrXKJ"
   },
   "source": [
    "# 対話履歴の参照"
   ]
  },
  {
   "cell_type": "code",
   "execution_count": null,
   "metadata": {
    "id": "7tOsbJjyrAZm"
   },
   "outputs": [],
   "source": [
    "# app.pyの中身を実装\n",
    "# ユーザーからの入力に対する反応を表示する\n",
    "%%writefile app.py\n",
    "from openai import OpenAI\n",
    "import streamlit as st\n",
    "import tiktoken\n",
    "import json\n",
    "\n",
    "client = OpenAI(api_key=\"your api key\")\n",
    "model = \"gpt-4o-mini\"\n",
    "\n",
    "st.title(\"おススメの観光スポットを教えてくれるボットです\")\n",
    "user_input = st.text_input(\"観光したい都道府県を入力してください:\")\n",
    "\n",
    "with open(\"history.json\", mode=\"r\") as f:\n",
    "    messages = json.load(f)\n",
    "\n",
    "for message in messages[1:]:\n",
    "    st.text_area(message[\"role\"], message[\"content\"])\n",
    "\n",
    "messages.append({\"role\": \"user\", \"content\": user_input})\n",
    "\n",
    "encoding = tiktoken.encoding_for_model(model)\n",
    "num_tokens = len(encoding.encode(user_input))\n",
    "\n",
    "if st.button(\"送信\"):\n",
    "    if num_tokens > 100:\n",
    "        st.text_area(\"ボットの応答\", \"文字数を減らしてください。\")\n",
    "        # st.error(\"文字数を減らしてください。\")\n",
    "    else:\n",
    "        response = client.chat.completions.create(\n",
    "            model=model,\n",
    "            messages=messages\n",
    "            )\n",
    "        st.text_area(\"ボットの応答\", response.choices[0].message.content)\n",
    "        messages.append({\"role\": \"assistant\", \"content\": response.choices[0].message.content})\n",
    "\n",
    "        with open(\"history.json\", mode=\"w\") as f:\n",
    "            json.dump(messages, f)"
   ]
  },
  {
   "cell_type": "code",
   "execution_count": null,
   "metadata": {
    "id": "QwKoW0zHtDsC"
   },
   "outputs": [],
   "source": [
    "# streamlitのrunコマンドでapp.pyを立ち上げ、localtunnelを用いてアプリ公開\n",
    "!streamlit run app.py & sleep 3 && npx localtunnel --port 8501"
   ]
  },
  {
   "cell_type": "code",
   "execution_count": null,
   "metadata": {
    "id": "opiP0LIgtFif"
   },
   "outputs": [],
   "source": []
  }
 ],
 "metadata": {
  "colab": {
   "provenance": []
  },
  "kernelspec": {
   "display_name": "Python 3",
   "name": "python3"
  },
  "language_info": {
   "name": "python"
  }
 },
 "nbformat": 4,
 "nbformat_minor": 0
}
