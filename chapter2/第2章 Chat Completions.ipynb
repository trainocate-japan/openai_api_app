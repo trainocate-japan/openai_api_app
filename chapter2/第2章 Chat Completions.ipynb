{
 "cells": [
  {
   "cell_type": "markdown",
   "metadata": {
    "id": "pe9SHzkCpXuq"
   },
   "source": [
    "# OpenAI API利用のための準備"
   ]
  },
  {
   "cell_type": "code",
   "execution_count": null,
   "metadata": {
    "id": "wUHg_rxqpEVN"
   },
   "outputs": [],
   "source": [
    "# openaiパッケージのインストール(colabはインストール済み)\n",
    "# !pip install openai"
   ]
  },
  {
   "cell_type": "code",
   "execution_count": null,
   "metadata": {},
   "outputs": [],
   "source": [
    "# インストール済みパッケージの確認\n",
    "!pip freeze | grep openai"
   ]
  },
  {
   "cell_type": "code",
   "execution_count": null,
   "metadata": {
    "id": "RAzBxnZipgh7"
   },
   "outputs": [],
   "source": [
    "# oepnaiパッケージのインポート\n",
    "from openai import OpenAI"
   ]
  },
  {
   "cell_type": "code",
   "execution_count": null,
   "metadata": {
    "id": "d-nigRmQries"
   },
   "outputs": [],
   "source": [
    "# APIキーを設定\n",
    "client = OpenAI(api_key=\"your api key\")"
   ]
  },
  {
   "cell_type": "markdown",
   "metadata": {
    "id": "iJgudUNaqi3P"
   },
   "source": [
    "# chat completions APIの利用"
   ]
  },
  {
   "cell_type": "code",
   "execution_count": null,
   "metadata": {
    "id": "chgq59VOqiDF"
   },
   "outputs": [],
   "source": [
    "# メソッドを呼び出し、応答を得る\n",
    "response = client.chat.completions.create(\n",
    "    model=\"gpt-4o-mini\",\n",
    "    messages=[\n",
    "        {\"role\": \"system\", \"content\": \"You are a helpful assistant.\"},\n",
    "        {\"role\": \"user\", \"content\": \"こんにちは\"}\n",
    "        ]\n",
    "    )"
   ]
  },
  {
   "cell_type": "code",
   "execution_count": null,
   "metadata": {
    "id": "uEQoPf1arnCM"
   },
   "outputs": [],
   "source": [
    "# chat completionsの表示\n",
    "print(response.choices[0].message.content)"
   ]
  },
  {
   "cell_type": "markdown",
   "metadata": {
    "id": "Yh-lUbEzrPTM"
   },
   "source": [
    "# 対話履歴の書き出し(保存)"
   ]
  },
  {
   "cell_type": "code",
   "execution_count": null,
   "metadata": {
    "id": "BwuAi96Mq9On"
   },
   "outputs": [],
   "source": [
    "# jsonパッケージをインポート\n",
    "import json\n",
    "\n",
    "messages = [{\"role\": \"system\", \"content\": \"You are a helpful assistant.\"},\n",
    "            {\"role\": \"user\", \"content\": \"こんにちは。私は猫が好きです。\"}\n",
    "           ]\n",
    "\n",
    "response = client.chat.completions.create(\n",
    "    model=\"gpt-4o-mini\",\n",
    "    messages=messages\n",
    "    )\n",
    "\n",
    "# 入力したメッセージと応答を一つのリストにする\n",
    "messages.append({\"role\": \"assistant\", \"content\": response.choices[0].message.content})\n",
    "\n",
    "# 対話履歴をhistory.jsonに保存\n",
    "with open(\"history.json\", mode=\"w\") as f:\n",
    "    json.dump(messages, f)"
   ]
  },
  {
   "cell_type": "markdown",
   "metadata": {
    "id": "OIkyoGyUmamm"
   },
   "source": [
    "# 対話履歴の読み込み(入力)\n"
   ]
  },
  {
   "cell_type": "code",
   "execution_count": null,
   "metadata": {
    "id": "VjPV6q6IrXh2"
   },
   "outputs": [],
   "source": [
    "# history.jsonを読み込む\n",
    "with open(\"history.json\", mode=\"r\") as f:\n",
    "    messages = json.load(f)"
   ]
  },
  {
   "cell_type": "code",
   "execution_count": null,
   "metadata": {
    "id": "wJOykXCbqYbb"
   },
   "outputs": [],
   "source": [
    "# メッセージを追加し、回答を表示する\n",
    "messages.append({\"role\": \"user\", \"content\": \"世界に何種類いますか\"})\n",
    "\n",
    "response = client.chat.completions.create(\n",
    "    model=\"gpt-4o-mini\",\n",
    "    messages=messages\n",
    "    )\n",
    "\n",
    "print(response.choices[0].message.content)"
   ]
  },
  {
   "cell_type": "markdown",
   "metadata": {
    "id": "mVph8EMHmwSx"
   },
   "source": [
    "# 入力された文章の要約"
   ]
  },
  {
   "cell_type": "code",
   "execution_count": null,
   "metadata": {
    "id": "6SaqdJzsmz8O"
   },
   "outputs": [],
   "source": [
    "# 入力する文章の読み込み\n",
    "with open(\"/content/drive/MyDrive/OpenAIAPIApp_Lecture/data/走れメロス(青空文庫).txt\") as f:\n",
    "  data = f.read()\n",
    "  print(data)\n",
    "  print(type(data))"
   ]
  },
  {
   "cell_type": "code",
   "execution_count": null,
   "metadata": {
    "id": "8mkcaIRJnSMg"
   },
   "outputs": [],
   "source": [
    "# 読み込んだ文章を要約する\n",
    "response = client.chat.completions.create(\n",
    "  model=\"gpt-4o-mini\",\n",
    "  messages=[\n",
    "    {\"role\": \"system\", \"content\": \"You are a helpful assistant.\"},\n",
    "    {\"role\": \"user\", \"content\": \"次の文章を100文字以内で要約してください。\\n\"\n",
    "    + \"###\\n\"\n",
    "    + data}\n",
    "  ]\n",
    ")\n",
    "\n",
    "print(response.choices[0].message.content)"
   ]
  },
  {
   "cell_type": "markdown",
   "metadata": {
    "id": "nvmC1Ljonrnq"
   },
   "source": [
    "# トークンをマネジメントする"
   ]
  },
  {
   "cell_type": "code",
   "execution_count": null,
   "metadata": {
    "id": "QzO75cFcnu3I"
   },
   "outputs": [],
   "source": [
    "# tiktokenパッケージのインストール（colabはインストール済み）\n",
    "# !pip install tiktoken"
   ]
  },
  {
   "cell_type": "code",
   "execution_count": null,
   "metadata": {},
   "outputs": [],
   "source": [
    "# インストール済みパッケージの確認\n",
    "!pip freeze | grep tiktoken"
   ]
  },
  {
   "cell_type": "code",
   "execution_count": null,
   "metadata": {
    "id": "WgaamC_OrMPN"
   },
   "outputs": [],
   "source": [
    "# tiktokenパッケージのインポート\n",
    "import tiktoken"
   ]
  },
  {
   "cell_type": "code",
   "execution_count": null,
   "metadata": {
    "id": "346Fk7sBqCab"
   },
   "outputs": [],
   "source": [
    "# モデルのトークン化手法を確認\n",
    "encoding = tiktoken.encoding_for_model(\"gpt-4o-mini\")"
   ]
  },
  {
   "cell_type": "code",
   "execution_count": null,
   "metadata": {
    "id": "OeGAVQDarWGq"
   },
   "outputs": [],
   "source": [
    "#トークン数の計算\n",
    "num_tokens = len(encoding.encode(\"おはようございます\"))\n",
    "print(num_tokens)"
   ]
  },
  {
   "cell_type": "markdown",
   "metadata": {
    "id": "GtnqZULhsLUK"
   },
   "source": [
    "# Webアプリケーション実装"
   ]
  },
  {
   "cell_type": "code",
   "execution_count": null,
   "metadata": {
    "id": "GHvUxNVmsOJQ"
   },
   "outputs": [],
   "source": [
    "# streamlitパッケージのインストール\n",
    "!pip install streamlit"
   ]
  },
  {
   "cell_type": "code",
   "execution_count": null,
   "metadata": {
    "id": "-rBww9gxuj0c"
   },
   "outputs": [],
   "source": [
    "# app.py を作成\n",
    "%%writefile app.py"
   ]
  },
  {
   "cell_type": "code",
   "execution_count": null,
   "metadata": {
    "id": "yjBHZq-5QBm1"
   },
   "outputs": [],
   "source": [
    "from google.colab import files\n",
    "files.view('app.py')"
   ]
  },
  {
   "cell_type": "code",
   "execution_count": null,
   "metadata": {
    "id": "fMnGSeVNsfZ-"
   },
   "outputs": [],
   "source": [
    "# app.pyの中身を実装\n",
    "# ユーザーからの入力をそのまま返す\n",
    "%%writefile app.py\n",
    "import streamlit as st\n",
    "\n",
    "st.title(\"Hello Streamlit\")\n",
    "\n",
    "user_input = st.text_input(\"あなたのメッセージを入力してください:\")\n",
    "\n",
    "if st.button(\"送信\"):\n",
    "    st.text_area(\"ボットの応答\", user_input)"
   ]
  },
  {
   "cell_type": "code",
   "execution_count": null,
   "metadata": {
    "id": "uUHl1l99uyQe"
   },
   "outputs": [],
   "source": [
    "# streamlitのrunコマンドでapp.pyを立ち上げ、localtunnelを用いてアプリ公開\n",
    "!streamlit run app.py & sleep 3 && npx localtunnel --port 8501"
   ]
  },
  {
   "cell_type": "code",
   "execution_count": null,
   "metadata": {
    "id": "27g69Sf7wKm6"
   },
   "outputs": [],
   "source": [
    "# app.pyの中身を実装\n",
    "# ユーザーからの入力に対する反応を表示する\n",
    "%%writefile app.py\n",
    "from openai import OpenAI\n",
    "import streamlit as st\n",
    "\n",
    "client = OpenAI(api_key=\"your api key\")\n",
    "\n",
    "st.title(\"シンプルなチャットボット\")\n",
    "user_input = st.text_input(\"あなたのメッセージを入力してください:\")\n",
    "\n",
    "if st.button(\"送信\"):\n",
    "    response = client.chat.completions.create(\n",
    "        model= \"gpt-4o-mini\",\n",
    "        messages=[{\"role\": \"system\", \"content\": \"You are a helpful assistant.\"},\n",
    "                  {\"role\": \"user\", \"content\": user_input}\n",
    "                  ]\n",
    "        )\n",
    "\n",
    "    st.text_area(\"ボットの応答\", response.choices[0].message.content)"
   ]
  },
  {
   "cell_type": "code",
   "execution_count": null,
   "metadata": {
    "id": "UNeKvStkwt8I"
   },
   "outputs": [],
   "source": [
    "# streamlitのrunコマンドでapp.pyを立ち上げ、localtunnelを用いてアプリ公開\n",
    "!streamlit run app.py & sleep 3 && npx localtunnel --port 8501"
   ]
  },
  {
   "cell_type": "code",
   "execution_count": null,
   "metadata": {
    "id": "6WpRiQJwfW2G"
   },
   "outputs": [],
   "source": []
  }
 ],
 "metadata": {
  "colab": {
   "provenance": []
  },
  "kernelspec": {
   "display_name": "Python 3",
   "name": "python3"
  },
  "language_info": {
   "name": "python"
  }
 },
 "nbformat": 4,
 "nbformat_minor": 0
}
